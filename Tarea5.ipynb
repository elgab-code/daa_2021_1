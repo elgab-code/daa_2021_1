{
  "nbformat": 4,
  "nbformat_minor": 0,
  "metadata": {
    "colab": {
      "name": "Untitled4.ipynb",
      "provenance": [],
      "authorship_tag": "ABX9TyOPGr0k6nwxiH2YCeElj8NE",
      "include_colab_link": true
    },
    "kernelspec": {
      "name": "python3",
      "display_name": "Python 3"
    }
  },
  "cells": [
    {
      "cell_type": "markdown",
      "metadata": {
        "id": "view-in-github",
        "colab_type": "text"
      },
      "source": [
        "<a href=\"https://colab.research.google.com/github/elgab-code/daa_2021_1/blob/master/Tarea5.ipynb\" target=\"_parent\"><img src=\"https://colab.research.google.com/assets/colab-badge.svg\" alt=\"Open In Colab\"/></a>"
      ]
    },
    {
      "cell_type": "code",
      "metadata": {
        "id": "pehpzGqqjeAC",
        "outputId": "20f321c7-46b4-4d7e-e83c-8a33fd62279b",
        "colab": {
          "base_uri": "https://localhost:8080/",
          "height": 384
        }
      },
      "source": [
        "from time import time\n",
        "\n",
        "def ejemplo1( n ):\n",
        "    start_time = time()\n",
        "    c = n + 1\n",
        "    d = c * n\n",
        "    e = n * n\n",
        "    total = c + e - d\n",
        "    print(f\"total={ total }\")\n",
        "\n",
        "    elapsed_time = time() - start_time\n",
        "    print(\"Tiempo transcurrido: %0.10f segundos.\" % elapsed_time)\n",
        "    \n",
        "\n",
        "for entrada in range(100,1100,100):\n",
        "  ejemplo1(entrada)"
      ],
      "execution_count": 1,
      "outputs": [
        {
          "output_type": "stream",
          "text": [
            "total=1\n",
            "Tiempo transcurrido: 0.0011174679 segundos.\n",
            "total=1\n",
            "Tiempo transcurrido: 0.0001528263 segundos.\n",
            "total=1\n",
            "Tiempo transcurrido: 0.0002598763 segundos.\n",
            "total=1\n",
            "Tiempo transcurrido: 0.0001485348 segundos.\n",
            "total=1\n",
            "Tiempo transcurrido: 0.0001606941 segundos.\n",
            "total=1\n",
            "Tiempo transcurrido: 0.0001690388 segundos.\n",
            "total=1\n",
            "Tiempo transcurrido: 0.0002238750 segundos.\n",
            "total=1\n",
            "Tiempo transcurrido: 0.0001525879 segundos.\n",
            "total=1\n",
            "Tiempo transcurrido: 0.0001430511 segundos.\n",
            "total=1\n",
            "Tiempo transcurrido: 0.0001692772 segundos.\n"
          ],
          "name": "stdout"
        }
      ]
    },
    {
      "cell_type": "code",
      "metadata": {
        "id": "w0GspYNUjokk",
        "outputId": "4bb8ae03-0a22-468b-8101-0bb3f7c61894",
        "colab": {
          "base_uri": "https://localhost:8080/",
          "height": 201
        }
      },
      "source": [
        "from time import time\n",
        "\n",
        "def ejemplo2( n ):\n",
        "    start_time = time()\n",
        "    contador = 0\n",
        "    for i in range( n ) :\n",
        "        for j in range( n ) :\n",
        "            contador += 1\n",
        "    elapsed_time = time() - start_time\n",
        "    print(\"Tiempo transcurrido: %0.10f segundos.\" % elapsed_time)\n",
        "    return contador\n",
        "for entrada in range(100,1100,100):\n",
        "  ejemplo2(entrada)"
      ],
      "execution_count": 2,
      "outputs": [
        {
          "output_type": "stream",
          "text": [
            "Tiempo transcurrido: 0.0008223057 segundos.\n",
            "Tiempo transcurrido: 0.0030732155 segundos.\n",
            "Tiempo transcurrido: 0.0055265427 segundos.\n",
            "Tiempo transcurrido: 0.0101218224 segundos.\n",
            "Tiempo transcurrido: 0.0143723488 segundos.\n",
            "Tiempo transcurrido: 0.0278494358 segundos.\n",
            "Tiempo transcurrido: 0.0257134438 segundos.\n",
            "Tiempo transcurrido: 0.0384025574 segundos.\n",
            "Tiempo transcurrido: 0.0424015522 segundos.\n",
            "Tiempo transcurrido: 0.0520076752 segundos.\n"
          ],
          "name": "stdout"
        }
      ]
    },
    {
      "cell_type": "code",
      "metadata": {
        "id": "5piVvS8VjwJx",
        "outputId": "d0531dc8-1d2b-4526-ea2e-d24fcc9c4e01",
        "colab": {
          "base_uri": "https://localhost:8080/",
          "height": 201
        }
      },
      "source": [
        "from time import time\n",
        "\n",
        "def ejemplo3( n ):\n",
        "  start_time = time()\n",
        "  x = n * 2\n",
        "  y = 0 \n",
        "  for m in range(100):\n",
        "    y= x - n \n",
        "  elapsed_time = time() - start_time\n",
        "  print(\"Tiempo transcurrido: %0.10f segundos.\" % elapsed_time)\n",
        "  return y\n",
        "for entrada in range(100,1100,100):\n",
        "  ejemplo3(entrada)"
      ],
      "execution_count": 3,
      "outputs": [
        {
          "output_type": "stream",
          "text": [
            "Tiempo transcurrido: 0.0000069141 segundos.\n",
            "Tiempo transcurrido: 0.0000064373 segundos.\n",
            "Tiempo transcurrido: 0.0000076294 segundos.\n",
            "Tiempo transcurrido: 0.0000078678 segundos.\n",
            "Tiempo transcurrido: 0.0000088215 segundos.\n",
            "Tiempo transcurrido: 0.0000088215 segundos.\n",
            "Tiempo transcurrido: 0.0000088215 segundos.\n",
            "Tiempo transcurrido: 0.0000088215 segundos.\n",
            "Tiempo transcurrido: 0.0000092983 segundos.\n",
            "Tiempo transcurrido: 0.0000071526 segundos.\n"
          ],
          "name": "stdout"
        }
      ]
    },
    {
      "cell_type": "code",
      "metadata": {
        "id": "_-i9-vS8j1Mv",
        "outputId": "5f4b1366-653a-4823-a473-be8a50c4ca59",
        "colab": {
          "base_uri": "https://localhost:8080/",
          "height": 201
        }
      },
      "source": [
        "from time import time\n",
        "\n",
        "def ejemplo4( n ):\n",
        "  start_time = time()\n",
        "  x = 3 * 3.1416 + n\n",
        "  y = x + 3 * 3 - n\n",
        "  z = x + y\n",
        "  elapsed_time = time() - start_time\n",
        "  print(\"Tiempo transcurrido: %0.10f segundos.\" % elapsed_time)\n",
        "\n",
        "  return z\n",
        "for entrada in range(100,1100,100):\n",
        "  ejemplo4(entrada)"
      ],
      "execution_count": 4,
      "outputs": [
        {
          "output_type": "stream",
          "text": [
            "Tiempo transcurrido: 0.0000011921 segundos.\n",
            "Tiempo transcurrido: 0.0000009537 segundos.\n",
            "Tiempo transcurrido: 0.0000002384 segundos.\n",
            "Tiempo transcurrido: 0.0000004768 segundos.\n",
            "Tiempo transcurrido: 0.0000004768 segundos.\n",
            "Tiempo transcurrido: 0.0000002384 segundos.\n",
            "Tiempo transcurrido: 0.0000004768 segundos.\n",
            "Tiempo transcurrido: 0.0000002384 segundos.\n",
            "Tiempo transcurrido: 0.0000004768 segundos.\n",
            "Tiempo transcurrido: 0.0000002384 segundos.\n"
          ],
          "name": "stdout"
        }
      ]
    },
    {
      "cell_type": "code",
      "metadata": {
        "id": "gZtXqT3Gj7pw",
        "outputId": "7a461411-fb16-4b48-8f7f-43de9631a8d1",
        "colab": {
          "base_uri": "https://localhost:8080/",
          "height": 201
        }
      },
      "source": [
        "from time import time\n",
        "\n",
        "def ejemplo5( x ):\n",
        "    start_time = time()\n",
        "    n = 10\n",
        "    for j in range( 0 , x , 1 ):\n",
        "        n = j + n\n",
        "    elapsed_time = time() - start_time\n",
        "    print(\"Tiempo transcurrido: %0.10f segundos.\" % elapsed_time)\n",
        "    return n\n",
        "for entrada in range(100,1100,100):\n",
        "  ejemplo5(entrada)"
      ],
      "execution_count": 5,
      "outputs": [
        {
          "output_type": "stream",
          "text": [
            "Tiempo transcurrido: 0.0000081062 segundos.\n",
            "Tiempo transcurrido: 0.0000953674 segundos.\n",
            "Tiempo transcurrido: 0.0000209808 segundos.\n",
            "Tiempo transcurrido: 0.0000329018 segundos.\n",
            "Tiempo transcurrido: 0.0000538826 segundos.\n",
            "Tiempo transcurrido: 0.0000460148 segundos.\n",
            "Tiempo transcurrido: 0.0000617504 segundos.\n",
            "Tiempo transcurrido: 0.0000627041 segundos.\n",
            "Tiempo transcurrido: 0.0000717640 segundos.\n",
            "Tiempo transcurrido: 0.0000939369 segundos.\n"
          ],
          "name": "stdout"
        }
      ]
    },
    {
      "cell_type": "code",
      "metadata": {
        "id": "l-AwopXcj74R",
        "outputId": "d0835079-1afa-41fc-dc85-bea96633c12d",
        "colab": {
          "base_uri": "https://localhost:8080/",
          "height": 201
        }
      },
      "source": [
        "from time import time\n",
        "\n",
        "def ejemplo6( n ):\n",
        "    start_time = time()\n",
        "    data=[[[1 for x in range(n)] for x in range(n)]\n",
        "          for x in range(n)]\n",
        "    suma = 0\n",
        "    for d in range(n):\n",
        "        for r in range(n):\n",
        "            for c in range(n):\n",
        "                suma += data[d][r][c]\n",
        "    elapsed_time = time() - start_time\n",
        "    print(\"Tiempo transcurrido: %0.10f segundos.\" % elapsed_time)\n",
        "    return suma\n",
        "for entrada in range(100,1100,100):\n",
        "  ejemplo6(entrada)"
      ],
      "execution_count": 6,
      "outputs": [
        {
          "output_type": "stream",
          "text": [
            "Tiempo transcurrido: 0.1841001511 segundos.\n",
            "Tiempo transcurrido: 1.0080904961 segundos.\n",
            "Tiempo transcurrido: 3.6168406010 segundos.\n",
            "Tiempo transcurrido: 9.2768263817 segundos.\n",
            "Tiempo transcurrido: 17.6151278019 segundos.\n",
            "Tiempo transcurrido: 32.0365095139 segundos.\n",
            "Tiempo transcurrido: 51.6400797367 segundos.\n",
            "Tiempo transcurrido: 76.6784293652 segundos.\n",
            "Tiempo transcurrido: 110.5853645802 segundos.\n",
            "Tiempo transcurrido: 154.4981057644 segundos.\n"
          ],
          "name": "stdout"
        }
      ]
    }
  ]
}