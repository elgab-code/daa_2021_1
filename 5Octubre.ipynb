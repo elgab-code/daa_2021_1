{
  "nbformat": 4,
  "nbformat_minor": 0,
  "metadata": {
    "colab": {
      "name": "5Octubre.ipynb",
      "provenance": [],
      "authorship_tag": "ABX9TyOYsPojay+A4PODa+89o4W7",
      "include_colab_link": true
    },
    "kernelspec": {
      "name": "python3",
      "display_name": "Python 3"
    }
  },
  "cells": [
    {
      "cell_type": "markdown",
      "metadata": {
        "id": "view-in-github",
        "colab_type": "text"
      },
      "source": [
        "<a href=\"https://colab.research.google.com/github/elgab-code/daa_2021_1/blob/master/5Octubre.ipynb\" target=\"_parent\"><img src=\"https://colab.research.google.com/assets/colab-badge.svg\" alt=\"Open In Colab\"/></a>"
      ]
    },
    {
      "cell_type": "code",
      "metadata": {
        "id": "ypUvRySy_SE6"
      },
      "source": [
        "\n"
      ],
      "execution_count": null,
      "outputs": []
    },
    {
      "cell_type": "markdown",
      "metadata": {
        "id": "szyfZBzTACU3"
      },
      "source": [
        "#Estructuras de Datos. Pilas. (Stack).\n",
        "- Trabajan bajo el protocolo LIFO.\n",
        "- De tipo lineal.\n",
        "- Se pueden obtener e ingresar datos desde el tope.\n",
        "- Push para agregar.\n",
        "- Pop para sacar.\n",
        "\n",
        "## Operaciones de las listas.\n",
        "1. is_empty (regresa true o false)\n",
        "2. get_top (regresa el elemento en el tope SIN SACARLO)\n",
        "3. pop (saca el elemento del tope y lo regresa)\n",
        "4. push (mete un elemento en el tope)\n",
        "5. get_length (regresa el numero de elementos de la pila)\n"
      ]
    },
    {
      "cell_type": "code",
      "metadata": {
        "id": "VubAfYwbCwkx"
      },
      "source": [
        "class Stack:\n",
        "  def __init__(self):\n",
        "    self.__datos = []\n",
        "\n",
        "  def is_empty(self):\n",
        "    return len(self.datos)==0\n",
        "\n",
        "  def get_top(self):\n",
        "    return self.__datos[-1]\n",
        "\n",
        "  def pop(self):\n",
        "    return self.__datos.pop()\n",
        "  \n",
        "  def push(self, valor):\n",
        "    self.__datos.append(valor)\n",
        "\n",
        "  def get_length(self):\n",
        "    return len(self.__datos)\n",
        "\n",
        "  def to_string(self):\n",
        "    print(\"|---------------------------|\")\n",
        "    for ele in self.__datos:\n",
        "      print(f\"{ele}\")\n",
        "    print(\"|--------------|\\n\")"
      ],
      "execution_count": null,
      "outputs": []
    },
    {
      "cell_type": "code",
      "metadata": {
        "id": "Te6vRoW9Gpen"
      },
      "source": [
        "pila1 = Stack()\n",
        "pila1.push(10)\n",
        "pila1.push(20)\n",
        "pila1.push(1)\n",
        "pila1.push(393)\n",
        "pila1.push(103)\n",
        "pila1.to_string()\n",
        "\n",
        "sacado = pila1.pop()\n",
        "print(sacado)\n",
        "pila1.to_string()\n",
        "\n",
        "pila1.push(444)\n",
        "pila1.push(233)\n",
        "pila1.to_string()\n",
        "\n",
        "print(f\"El elemento en el tope es:{pila1.get_top()}\")\n",
        "pila1.to_string()\n",
        "print(f\"La pila tiene{pila1.get_length()} elementos\")\n",
        "print(f\"¿La pila esta vacía?: {pila1.is_empty()}\")"
      ],
      "execution_count": null,
      "outputs": []
    }
  ]
}
