{
  "nbformat": 4,
  "nbformat_minor": 0,
  "metadata": {
    "colab": {
      "name": "7Octubre.ipynb",
      "provenance": [],
      "authorship_tag": "ABX9TyPtFkNqi06w+wZ2vjD8vwtA",
      "include_colab_link": true
    },
    "kernelspec": {
      "name": "python3",
      "display_name": "Python 3"
    }
  },
  "cells": [
    {
      "cell_type": "markdown",
      "metadata": {
        "id": "view-in-github",
        "colab_type": "text"
      },
      "source": [
        "<a href=\"https://colab.research.google.com/github/elgab-code/daa_2021_1/blob/master/7Octubre.ipynb\" target=\"_parent\"><img src=\"https://colab.research.google.com/assets/colab-badge.svg\" alt=\"Open In Colab\"/></a>"
      ]
    },
    {
      "cell_type": "markdown",
      "metadata": {
        "id": "NkKCrVoDTfhR"
      },
      "source": [
        "#Busqueda Lineal\n",
        "Dado un conjunto de datos no ordenados, la busqueda lineal consiste en recorrer el conjunto de datos desde el inicio al final, moviéndose een cada elemento hasta encontrar el elemento o llegar al final del conjunto.\n",
        "\n",
        "#Busqueda binaria\n",
        "Funciona sobre un conjunto de datos lineal ordenado. Consiste en dividir el conjunto en mitades y buscar en esa mitad.  Si el elemento buscado no está en la mitad, preguntas si el elemento está a la derecha o a la izquierda. Haces la lista, igual, a la mitad correspondiente y repites el proceso hasta encontrar el elemento.\n",
        "L = [ 1, 2, 3, 4, 5, 12, 14, 18, 19, 21, 31, 34, 47, 48, 78]\n",
        "DER = longitud(L) -1\n",
        "IZQ = 0\n",
        "MID apuntará a la mitad del segmento de busqueda: \n",
        "1. Hacer DER = longitud(L)-1\n",
        "2. Hacer IZQ = 0\n",
        "3. Si IZQ>DER significa que hay un error en los datos\n",
        "4. Calcular MID = int ((IZQ+DER)/2)\n",
        "5. Mientras L[MID] != buscado hacer\n",
        "6.  - preguntar L[MID] !>buscado \n",
        "          - hacer DER = mid\n",
        "      - de lo contrario \n",
        "          - hacer IZQ = mid\n",
        "      - preguntar (DER - IZQ) %2\n",
        "          - MID = (IZQ + ((DER-IZQ/2))+1\n",
        "      - de lo contrario \n",
        "          - MID = IZQ + ((DER-IZQ)/2)"
      ]
    },
    {
      "cell_type": "code",
      "metadata": {
        "id": "AvlyQsW9Ta35"
      },
      "source": [
        "def busq_lineal(L, buscado):\n",
        "  indice = -1\n",
        "  contador = 0\n",
        "  for idx in range (len(L)):\n",
        "    contador += 1\n",
        "    if L[idx]== buscado:\n",
        "      indice = idx\n",
        "      break\n",
        "  print(\"numero de iteraciones:\"{contador})\n",
        "    return indice \n",
        "\n",
        "\"\"\"\n",
        "Busqueda Binaria\n",
        "\"\"\"\"\n",
        "def busq_binaria(L, buscado):\n",
        "  IZQ = 0\n",
        "  DER = len(L)-1\n",
        "  MID = int((IZQ+DER)/2)\n",
        "  if len(L) %2 == 0:\n",
        "    MID = (DER//2)+1\n",
        "  else: \n",
        "    MID = DER // 2\n",
        "  while (L[MID]!= buscado):\n",
        "    if L[MID]> buscado:\n",
        "      DER = MID\n",
        "    else:\n",
        "      IZQ = MID\n",
        "    if (DER-IZQ)% 2 == 0\n",
        "      MID = (IZQ+((DER-IZQ)//2))+1\n",
        "    else:\n",
        "      MID = IZQ+((DER-IZQ)//2)\n",
        "    return MID\n",
        "\n",
        "def main():\n",
        "  datos=[]\n",
        "  dato = int(input(\"Que valor quieres buscar?:\"))\n",
        "  resultado = busq_lineal(datos, dato)\n",
        "  print(\"resultado:\", resultado)\n",
        "  print(\"Busqueda lineal en una lista ordenada\")\n",
        "  datos.sort()\n",
        "  print(datos)\n",
        "\n",
        "  print(\"Busqueda binaria\")\n",
        "  posicion = busq_binaria(datos, dato)\n",
        "  print(\"El elemento \")\n",
        "  main()\n"
      ],
      "execution_count": null,
      "outputs": []
    }
  ]
}