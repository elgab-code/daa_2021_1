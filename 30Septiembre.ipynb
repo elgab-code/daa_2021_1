{
  "nbformat": 4,
  "nbformat_minor": 0,
  "metadata": {
    "colab": {
      "name": "30Septiembre.ipynb",
      "provenance": [],
      "authorship_tag": "ABX9TyMYXvsF22zZrHYMJTh6B4dk",
      "include_colab_link": true
    },
    "kernelspec": {
      "name": "python3",
      "display_name": "Python 3"
    }
  },
  "cells": [
    {
      "cell_type": "markdown",
      "metadata": {
        "id": "view-in-github",
        "colab_type": "text"
      },
      "source": [
        "<a href=\"https://colab.research.google.com/github/elgab-code/daa_2021_1/blob/master/30Septiembre.ipynb\" target=\"_parent\"><img src=\"https://colab.research.google.com/assets/colab-badge.svg\" alt=\"Open In Colab\"/></a>"
      ]
    },
    {
      "cell_type": "markdown",
      "metadata": {
        "id": "B4MIorB2QKgV"
      },
      "source": [
        "#Palíndromos.\n",
        "Es una palabra que se lee igual de derecha a izquierda o izquierda a derecha.\n",
        "1. oso\n",
        "2. reconocer\n",
        "3. 10101\n",
        "4. 10:01\n",
        "\n",
        "###Planteamiento del problema\n",
        " Se desea encontrar todos los palíndromos que existen en la franja horaria de un día completo, tomando como horario incial las 00:00 y como horario final las 23:59.\n",
        " El algoritmo debe mostrar en pantalla todos los palíndromos existentes en ese rango, al final debe mostrar el conteo del total de palíndromos exitentes."
      ]
    },
    {
      "cell_type": "code",
      "metadata": {
        "id": "qJn8KGaJQClv",
        "outputId": "dee096f3-ca1b-4d15-b749-c0ddceb9abf9",
        "colab": {
          "base_uri": "https://localhost:8080/",
          "height": 135
        }
      },
      "source": [
        " i = 0000\n",
        "while i <= 2359:\n",
        "  numero = i\n",
        "  lista = list(numero)\n",
        "  listaReverse=[lista[i-1] for i in range(len(lista),0,-1)]\n",
        "    print(i)\n",
        "    i = i+1\n",
        "\n",
        "   \n",
        " if lista == listaReverse:\n",
        "\n",
        "    print 'La hora es un palindromo'\n",
        "\n",
        " else:\n",
        "\n",
        "    print 'La hora no es palindromo'"
      ],
      "execution_count": 1,
      "outputs": [
        {
          "output_type": "error",
          "ename": "IndentationError",
          "evalue": "ignored",
          "traceback": [
            "\u001b[0;36m  File \u001b[0;32m\"<ipython-input-1-0eb40aabefd4>\"\u001b[0;36m, line \u001b[0;32m6\u001b[0m\n\u001b[0;31m    print(i)\u001b[0m\n\u001b[0m    ^\u001b[0m\n\u001b[0;31mIndentationError\u001b[0m\u001b[0;31m:\u001b[0m unexpected indent\n"
          ]
        }
      ]
    }
  ]
}